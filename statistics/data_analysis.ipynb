{
 "cells": [
  {
   "cell_type": "markdown",
   "id": "2e26c317",
   "metadata": {},
   "source": [
    "# Data Analysis del Gioco di Ruolo"
   ]
  }
 ],
 "metadata": {
  "language_info": {
   "name": "python"
  }
 },
 "nbformat": 4,
 "nbformat_minor": 5
}
